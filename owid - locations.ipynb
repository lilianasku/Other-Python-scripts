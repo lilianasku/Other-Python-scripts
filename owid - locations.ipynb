{
 "cells": [
  {
   "cell_type": "markdown",
   "id": "major-legislature",
   "metadata": {},
   "source": [
    "### How to use Python to rearrange the content of a table column\n",
    "\n",
    "This project was part of a Power BI presentation showing the number of vaccines used at different locations. I have decided to create similar plots by applying dataframes features of Python's Pandas library. The notebook regroups the content of a dataframe column in order to create visuals.\n",
    "\n",
    "The input data set is the \"locations.csv\" file  from the \"Our World in Data\" repository related to the Covid-19 pandemic:  https://github.com/owid/covid-19-data/blob/master/public/data/vaccinations/locations.csv \n",
    "\n",
    "The most recent version of the location file, downloaded on the 12th of March 2022. "
   ]
  },
  {
   "cell_type": "markdown",
   "id": "enormous-cable",
   "metadata": {},
   "source": [
    "### 1. Importing  data "
   ]
  },
  {
   "cell_type": "code",
   "execution_count": 1,
   "id": "sacred-cologne",
   "metadata": {},
   "outputs": [
    {
     "data": {
      "text/html": [
       "<div>\n",
       "<style scoped>\n",
       "    .dataframe tbody tr th:only-of-type {\n",
       "        vertical-align: middle;\n",
       "    }\n",
       "\n",
       "    .dataframe tbody tr th {\n",
       "        vertical-align: top;\n",
       "    }\n",
       "\n",
       "    .dataframe thead th {\n",
       "        text-align: right;\n",
       "    }\n",
       "</style>\n",
       "<table border=\"1\" class=\"dataframe\">\n",
       "  <thead>\n",
       "    <tr style=\"text-align: right;\">\n",
       "      <th></th>\n",
       "      <th>location</th>\n",
       "      <th>iso_code</th>\n",
       "      <th>vaccines</th>\n",
       "      <th>last_observation_date</th>\n",
       "      <th>source_name</th>\n",
       "      <th>source_website</th>\n",
       "    </tr>\n",
       "  </thead>\n",
       "  <tbody>\n",
       "    <tr>\n",
       "      <th>0</th>\n",
       "      <td>Afghanistan</td>\n",
       "      <td>AFG</td>\n",
       "      <td>Johnson&amp;Johnson, Oxford/AstraZeneca, Pfizer/Bi...</td>\n",
       "      <td>6/03/2022</td>\n",
       "      <td>World Health Organization</td>\n",
       "      <td>https://covid19.who.int/</td>\n",
       "    </tr>\n",
       "    <tr>\n",
       "      <th>1</th>\n",
       "      <td>Albania</td>\n",
       "      <td>ALB</td>\n",
       "      <td>Oxford/AstraZeneca, Pfizer/BioNTech, Sinovac, ...</td>\n",
       "      <td>10/03/2022</td>\n",
       "      <td>Ministry of Health</td>\n",
       "      <td>https://shendetesia.gov.al/vaksinimi-anticovid...</td>\n",
       "    </tr>\n",
       "    <tr>\n",
       "      <th>2</th>\n",
       "      <td>Algeria</td>\n",
       "      <td>DZA</td>\n",
       "      <td>Oxford/AstraZeneca, Sinopharm/Beijing, Sinovac...</td>\n",
       "      <td>10/03/2022</td>\n",
       "      <td>World Health Organization</td>\n",
       "      <td>https://africacdc.org/covid-19-vaccination/</td>\n",
       "    </tr>\n",
       "    <tr>\n",
       "      <th>3</th>\n",
       "      <td>Andorra</td>\n",
       "      <td>AND</td>\n",
       "      <td>Moderna, Oxford/AstraZeneca, Pfizer/BioNTech</td>\n",
       "      <td>13/02/2022</td>\n",
       "      <td>World Health Organization</td>\n",
       "      <td>https://covid19.who.int/</td>\n",
       "    </tr>\n",
       "    <tr>\n",
       "      <th>4</th>\n",
       "      <td>Angola</td>\n",
       "      <td>AGO</td>\n",
       "      <td>Oxford/AstraZeneca</td>\n",
       "      <td>10/03/2022</td>\n",
       "      <td>World Health Organization</td>\n",
       "      <td>https://africacdc.org/covid-19-vaccination/</td>\n",
       "    </tr>\n",
       "  </tbody>\n",
       "</table>\n",
       "</div>"
      ],
      "text/plain": [
       "      location iso_code                                           vaccines  \\\n",
       "0  Afghanistan      AFG  Johnson&Johnson, Oxford/AstraZeneca, Pfizer/Bi...   \n",
       "1      Albania      ALB  Oxford/AstraZeneca, Pfizer/BioNTech, Sinovac, ...   \n",
       "2      Algeria      DZA  Oxford/AstraZeneca, Sinopharm/Beijing, Sinovac...   \n",
       "3      Andorra      AND       Moderna, Oxford/AstraZeneca, Pfizer/BioNTech   \n",
       "4       Angola      AGO                                 Oxford/AstraZeneca   \n",
       "\n",
       "  last_observation_date                source_name  \\\n",
       "0             6/03/2022  World Health Organization   \n",
       "1            10/03/2022         Ministry of Health   \n",
       "2            10/03/2022  World Health Organization   \n",
       "3            13/02/2022  World Health Organization   \n",
       "4            10/03/2022  World Health Organization   \n",
       "\n",
       "                                      source_website  \n",
       "0                           https://covid19.who.int/  \n",
       "1  https://shendetesia.gov.al/vaksinimi-anticovid...  \n",
       "2        https://africacdc.org/covid-19-vaccination/  \n",
       "3                           https://covid19.who.int/  \n",
       "4        https://africacdc.org/covid-19-vaccination/  "
      ]
     },
     "execution_count": 1,
     "metadata": {},
     "output_type": "execute_result"
    }
   ],
   "source": [
    "import numpy as np\n",
    "import pandas as pd\n",
    "import matplotlib.pyplot as plt\n",
    "plt.style.use('ggplot')\n",
    "\n",
    "file = 'locations12March2022.csv'\n",
    "\n",
    "owid_df = pd.read_csv(file, sep =',')\n",
    "owid_df.head(5)"
   ]
  },
  {
   "cell_type": "code",
   "execution_count": 2,
   "id": "palestinian-contemporary",
   "metadata": {},
   "outputs": [
    {
     "name": "stdout",
     "output_type": "stream",
     "text": [
      "<class 'pandas.core.frame.DataFrame'>\n",
      "RangeIndex: 223 entries, 0 to 222\n",
      "Data columns (total 6 columns):\n",
      " #   Column                 Non-Null Count  Dtype \n",
      "---  ------                 --------------  ----- \n",
      " 0   location               223 non-null    object\n",
      " 1   iso_code               223 non-null    object\n",
      " 2   vaccines               223 non-null    object\n",
      " 3   last_observation_date  223 non-null    object\n",
      " 4   source_name            223 non-null    object\n",
      " 5   source_website         223 non-null    object\n",
      "dtypes: object(6)\n",
      "memory usage: 10.6+ KB\n"
     ]
    }
   ],
   "source": [
    "owid_df.info()"
   ]
  },
  {
   "cell_type": "markdown",
   "id": "suited-singles",
   "metadata": {},
   "source": [
    "### 2. Preparing data"
   ]
  },
  {
   "cell_type": "code",
   "execution_count": 3,
   "id": "accepting-initial",
   "metadata": {},
   "outputs": [],
   "source": [
    "# splitting vaccine column\n",
    "owid_df1= owid_df['vaccines'].str.split(',', expand=True)\n",
    "\n",
    "#replace 10 with len(str...)\n",
    "owid_df1.columns = ['VaccineNo'+str(i) for i in range(1,10)]"
   ]
  },
  {
   "cell_type": "code",
   "execution_count": 4,
   "id": "amateur-coating",
   "metadata": {},
   "outputs": [
    {
     "data": {
      "text/html": [
       "<div>\n",
       "<style scoped>\n",
       "    .dataframe tbody tr th:only-of-type {\n",
       "        vertical-align: middle;\n",
       "    }\n",
       "\n",
       "    .dataframe tbody tr th {\n",
       "        vertical-align: top;\n",
       "    }\n",
       "\n",
       "    .dataframe thead th {\n",
       "        text-align: right;\n",
       "    }\n",
       "</style>\n",
       "<table border=\"1\" class=\"dataframe\">\n",
       "  <thead>\n",
       "    <tr style=\"text-align: right;\">\n",
       "      <th></th>\n",
       "      <th>location</th>\n",
       "      <th>iso_code</th>\n",
       "      <th>last_observation_date</th>\n",
       "      <th>source_name</th>\n",
       "      <th>source_website</th>\n",
       "      <th>VaccineNo1</th>\n",
       "      <th>VaccineNo2</th>\n",
       "      <th>VaccineNo3</th>\n",
       "      <th>VaccineNo4</th>\n",
       "      <th>VaccineNo5</th>\n",
       "      <th>VaccineNo6</th>\n",
       "      <th>VaccineNo7</th>\n",
       "      <th>VaccineNo8</th>\n",
       "      <th>VaccineNo9</th>\n",
       "    </tr>\n",
       "  </thead>\n",
       "  <tbody>\n",
       "    <tr>\n",
       "      <th>0</th>\n",
       "      <td>Afghanistan</td>\n",
       "      <td>AFG</td>\n",
       "      <td>6/03/2022</td>\n",
       "      <td>World Health Organization</td>\n",
       "      <td>https://covid19.who.int/</td>\n",
       "      <td>Johnson&amp;Johnson</td>\n",
       "      <td>Oxford/AstraZeneca</td>\n",
       "      <td>Pfizer/BioNTech</td>\n",
       "      <td>Sinopharm/Beijing</td>\n",
       "      <td>None</td>\n",
       "      <td>None</td>\n",
       "      <td>None</td>\n",
       "      <td>None</td>\n",
       "      <td>None</td>\n",
       "    </tr>\n",
       "    <tr>\n",
       "      <th>1</th>\n",
       "      <td>Albania</td>\n",
       "      <td>ALB</td>\n",
       "      <td>10/03/2022</td>\n",
       "      <td>Ministry of Health</td>\n",
       "      <td>https://shendetesia.gov.al/vaksinimi-anticovid...</td>\n",
       "      <td>Oxford/AstraZeneca</td>\n",
       "      <td>Pfizer/BioNTech</td>\n",
       "      <td>Sinovac</td>\n",
       "      <td>Sputnik V</td>\n",
       "      <td>None</td>\n",
       "      <td>None</td>\n",
       "      <td>None</td>\n",
       "      <td>None</td>\n",
       "      <td>None</td>\n",
       "    </tr>\n",
       "    <tr>\n",
       "      <th>2</th>\n",
       "      <td>Algeria</td>\n",
       "      <td>DZA</td>\n",
       "      <td>10/03/2022</td>\n",
       "      <td>World Health Organization</td>\n",
       "      <td>https://africacdc.org/covid-19-vaccination/</td>\n",
       "      <td>Oxford/AstraZeneca</td>\n",
       "      <td>Sinopharm/Beijing</td>\n",
       "      <td>Sinovac</td>\n",
       "      <td>Sputnik V</td>\n",
       "      <td>None</td>\n",
       "      <td>None</td>\n",
       "      <td>None</td>\n",
       "      <td>None</td>\n",
       "      <td>None</td>\n",
       "    </tr>\n",
       "    <tr>\n",
       "      <th>3</th>\n",
       "      <td>Andorra</td>\n",
       "      <td>AND</td>\n",
       "      <td>13/02/2022</td>\n",
       "      <td>World Health Organization</td>\n",
       "      <td>https://covid19.who.int/</td>\n",
       "      <td>Moderna</td>\n",
       "      <td>Oxford/AstraZeneca</td>\n",
       "      <td>Pfizer/BioNTech</td>\n",
       "      <td>None</td>\n",
       "      <td>None</td>\n",
       "      <td>None</td>\n",
       "      <td>None</td>\n",
       "      <td>None</td>\n",
       "      <td>None</td>\n",
       "    </tr>\n",
       "    <tr>\n",
       "      <th>4</th>\n",
       "      <td>Angola</td>\n",
       "      <td>AGO</td>\n",
       "      <td>10/03/2022</td>\n",
       "      <td>World Health Organization</td>\n",
       "      <td>https://africacdc.org/covid-19-vaccination/</td>\n",
       "      <td>Oxford/AstraZeneca</td>\n",
       "      <td>None</td>\n",
       "      <td>None</td>\n",
       "      <td>None</td>\n",
       "      <td>None</td>\n",
       "      <td>None</td>\n",
       "      <td>None</td>\n",
       "      <td>None</td>\n",
       "      <td>None</td>\n",
       "    </tr>\n",
       "  </tbody>\n",
       "</table>\n",
       "</div>"
      ],
      "text/plain": [
       "      location iso_code last_observation_date                source_name  \\\n",
       "0  Afghanistan      AFG             6/03/2022  World Health Organization   \n",
       "1      Albania      ALB            10/03/2022         Ministry of Health   \n",
       "2      Algeria      DZA            10/03/2022  World Health Organization   \n",
       "3      Andorra      AND            13/02/2022  World Health Organization   \n",
       "4       Angola      AGO            10/03/2022  World Health Organization   \n",
       "\n",
       "                                      source_website          VaccineNo1  \\\n",
       "0                           https://covid19.who.int/     Johnson&Johnson   \n",
       "1  https://shendetesia.gov.al/vaksinimi-anticovid...  Oxford/AstraZeneca   \n",
       "2        https://africacdc.org/covid-19-vaccination/  Oxford/AstraZeneca   \n",
       "3                           https://covid19.who.int/             Moderna   \n",
       "4        https://africacdc.org/covid-19-vaccination/  Oxford/AstraZeneca   \n",
       "\n",
       "            VaccineNo2        VaccineNo3          VaccineNo4 VaccineNo5  \\\n",
       "0   Oxford/AstraZeneca   Pfizer/BioNTech   Sinopharm/Beijing       None   \n",
       "1      Pfizer/BioNTech           Sinovac           Sputnik V       None   \n",
       "2    Sinopharm/Beijing           Sinovac           Sputnik V       None   \n",
       "3   Oxford/AstraZeneca   Pfizer/BioNTech                None       None   \n",
       "4                 None              None                None       None   \n",
       "\n",
       "  VaccineNo6 VaccineNo7 VaccineNo8 VaccineNo9  \n",
       "0       None       None       None       None  \n",
       "1       None       None       None       None  \n",
       "2       None       None       None       None  \n",
       "3       None       None       None       None  \n",
       "4       None       None       None       None  "
      ]
     },
     "execution_count": 4,
     "metadata": {},
     "output_type": "execute_result"
    }
   ],
   "source": [
    "#creating column names\n",
    "vaccine_df = pd.concat([owid_df, owid_df1], axis=1)\n",
    "vaccine_df.drop(columns = ['vaccines']).head(5)"
   ]
  },
  {
   "cell_type": "code",
   "execution_count": 5,
   "id": "seventh-union",
   "metadata": {},
   "outputs": [],
   "source": [
    "#removing leading and trailing spaces in vaccine columns\n",
    "for i in range(1,10):\n",
    "    vaccine_df['VaccineNo'+str(i)] = vaccine_df['VaccineNo'+str(i)].str.rstrip()\n",
    "    vaccine_df['VaccineNo'+str(i)] = vaccine_df['VaccineNo'+str(i)].str.lstrip()"
   ]
  },
  {
   "cell_type": "markdown",
   "id": "quiet-jerusalem",
   "metadata": {},
   "source": [
    "### 3. Creating new data frame"
   ]
  },
  {
   "cell_type": "code",
   "execution_count": 6,
   "id": "digital-discount",
   "metadata": {},
   "outputs": [
    {
     "data": {
      "text/html": [
       "<div>\n",
       "<style scoped>\n",
       "    .dataframe tbody tr th:only-of-type {\n",
       "        vertical-align: middle;\n",
       "    }\n",
       "\n",
       "    .dataframe tbody tr th {\n",
       "        vertical-align: top;\n",
       "    }\n",
       "\n",
       "    .dataframe thead th {\n",
       "        text-align: right;\n",
       "    }\n",
       "</style>\n",
       "<table border=\"1\" class=\"dataframe\">\n",
       "  <thead>\n",
       "    <tr style=\"text-align: right;\">\n",
       "      <th></th>\n",
       "      <th>NumberOfCountries</th>\n",
       "    </tr>\n",
       "    <tr>\n",
       "      <th>Vaccine</th>\n",
       "      <th></th>\n",
       "    </tr>\n",
       "  </thead>\n",
       "  <tbody>\n",
       "    <tr>\n",
       "      <th>Abdala</th>\n",
       "      <td>4</td>\n",
       "    </tr>\n",
       "    <tr>\n",
       "      <th>COVIran Barekat</th>\n",
       "      <td>1</td>\n",
       "    </tr>\n",
       "    <tr>\n",
       "      <th>CanSino</th>\n",
       "      <td>7</td>\n",
       "    </tr>\n",
       "    <tr>\n",
       "      <th>Covaxin</th>\n",
       "      <td>7</td>\n",
       "    </tr>\n",
       "    <tr>\n",
       "      <th>EpiVacCorona</th>\n",
       "      <td>2</td>\n",
       "    </tr>\n",
       "  </tbody>\n",
       "</table>\n",
       "</div>"
      ],
      "text/plain": [
       "                 NumberOfCountries\n",
       "Vaccine                           \n",
       "Abdala                           4\n",
       "COVIran Barekat                  1\n",
       "CanSino                          7\n",
       "Covaxin                          7\n",
       "EpiVacCorona                     2"
      ]
     },
     "execution_count": 6,
     "metadata": {},
     "output_type": "execute_result"
    }
   ],
   "source": [
    "#Number of countries by the first vaccine choice\n",
    "df1=vaccine_df.groupby([\"VaccineNo1\"])[[\"location\"]].count()\n",
    "df1.index.names=['Vaccine']\n",
    "df1.rename(columns={'location':'NumberOfCountries'}, inplace = True)\n",
    "df1.head(5)"
   ]
  },
  {
   "cell_type": "code",
   "execution_count": 7,
   "id": "lasting-prisoner",
   "metadata": {},
   "outputs": [],
   "source": [
    "#number of countries with DfNo vaccine choices\n",
    "def CreateDFs(DfNo):\n",
    "   df = vaccine_df.groupby(['VaccineNo'+str(DfNo)])[[\"location\"]].count()\n",
    "   df.index.names=['Vaccine']\n",
    "   df.rename(columns={'location':'NumberOfCountries'}, inplace = True)\n",
    "   return df"
   ]
  },
  {
   "cell_type": "code",
   "execution_count": 8,
   "id": "coupled-translator",
   "metadata": {},
   "outputs": [],
   "source": [
    "df2 = CreateDFs(2) \n",
    "df3 = CreateDFs(3) \n",
    "df4 = CreateDFs(4) \n",
    "df5 = CreateDFs(5) "
   ]
  },
  {
   "cell_type": "code",
   "execution_count": 9,
   "id": "mediterranean-compensation",
   "metadata": {},
   "outputs": [],
   "source": [
    "df6 = CreateDFs(6) \n",
    "df7 = CreateDFs(7) \n",
    "df8 = CreateDFs(8)"
   ]
  },
  {
   "cell_type": "code",
   "execution_count": 10,
   "id": "lovely-awareness",
   "metadata": {},
   "outputs": [],
   "source": [
    "#merging dataframes\n",
    "new_df = pd.merge(df1,df2, on = ['Vaccine'], how = 'outer', suffixes = ['1', '2'])\n",
    "new_df1 = new_df['NumberOfCountries1'].fillna(0) + new_df['NumberOfCountries2'].fillna(0)\n",
    "\n",
    "new_df = pd.merge(df3,df4, on = ['Vaccine'], how = 'outer', suffixes = ['1', '2'])\n",
    "new_df2 = new_df['NumberOfCountries1'].fillna(0) + new_df['NumberOfCountries2'].fillna(0)\n",
    "\n",
    "new_df = pd.merge(df5,df6, on = ['Vaccine'], how = 'outer', suffixes = ['1', '2'])\n",
    "new_df3 = new_df['NumberOfCountries1'].fillna(0) + new_df['NumberOfCountries2'].fillna(0)\n",
    "\n",
    "new_df = pd.merge(df7,df8, on = ['Vaccine'], how = 'outer', suffixes = ['1', '2'])\n",
    "new_df4 = new_df['NumberOfCountries1'].fillna(0) + new_df['NumberOfCountries2'].fillna(0)"
   ]
  },
  {
   "cell_type": "code",
   "execution_count": 11,
   "id": "blank-supply",
   "metadata": {},
   "outputs": [
    {
     "data": {
      "text/plain": [
       "pandas.core.series.Series"
      ]
     },
     "execution_count": 11,
     "metadata": {},
     "output_type": "execute_result"
    }
   ],
   "source": [
    "type(new_df1)"
   ]
  },
  {
   "cell_type": "markdown",
   "id": "august-manufacturer",
   "metadata": {},
   "source": [
    "### 4. Preparing data frame"
   ]
  },
  {
   "cell_type": "code",
   "execution_count": 12,
   "id": "theoretical-shareware",
   "metadata": {},
   "outputs": [],
   "source": [
    "df_new = pd.concat([new_df1,new_df2, new_df3, new_df4], axis = 1)\n",
    "df_new1 =  df_new[0].fillna(0) + df_new[1].fillna(0) + df_new[2].fillna(0) + df_new[3].fillna(0)"
   ]
  },
  {
   "cell_type": "code",
   "execution_count": 13,
   "id": "postal-platinum",
   "metadata": {},
   "outputs": [
    {
     "data": {
      "text/plain": [
       "Vaccine\n",
       "Abdala                  4.0\n",
       "COVIran Barekat         1.0\n",
       "CanSino                 7.0\n",
       "Covaxin                 9.0\n",
       "EpiVacCorona            2.0\n",
       "Johnson&Johnson        87.0\n",
       "Medigen                 1.0\n",
       "Moderna                88.0\n",
       "Oxford/AstraZeneca    182.0\n",
       "Pfizer/BioNTech       156.0\n",
       "QazVac                  2.0\n",
       "Sinopharm/Beijing      88.0\n",
       "Sputnik V              57.0\n",
       "Sinovac                50.0\n",
       "Soberana Plus           1.0\n",
       "FAKHRAVAC               1.0\n",
       "Novavax                10.0\n",
       "Sinopharm/Wuhan         2.0\n",
       "Soberana02              4.0\n",
       "Turkovac                1.0\n",
       "dtype: float64"
      ]
     },
     "execution_count": 13,
     "metadata": {},
     "output_type": "execute_result"
    }
   ],
   "source": [
    "#number of countries per vaccine types\n",
    "df_new1.head(20)"
   ]
  },
  {
   "cell_type": "markdown",
   "id": "interracial-civilian",
   "metadata": {},
   "source": [
    "### 5. Creating Plot"
   ]
  },
  {
   "cell_type": "code",
   "execution_count": 14,
   "id": "seven-visiting",
   "metadata": {
    "scrolled": true
   },
   "outputs": [
    {
     "data": {
      "image/png": "[encoded data removed]",
      "text/plain": [
       "<Figure size 576x432 with 1 Axes>"
      ]
     },
     "metadata": {},
     "output_type": "display_data"
    }
   ],
   "source": [
    "#Horizontal Barplot\n",
    "fig,ax = plt.subplots(figsize=(8,6))\n",
    "\n",
    "vaccines = [df_new1.index[i] for i in range(0,len(df_new1))]\n",
    "y_pos = [df_new1[i] for i in range(0,len(df_new1))]\n",
    "\n",
    "ax.barh(vaccines,y_pos, align='center')\n",
    "ax.invert_yaxis()\n",
    "ax.set_xlabel('Number of countries')\n",
    "ax.set_title('Number of countries per vaccine types')\n",
    "plt.show()"
   ]
  },
  {
   "cell_type": "markdown",
   "id": "legendary-studio",
   "metadata": {},
   "source": [
    "### 6. Number of vaccines per country"
   ]
  },
  {
   "cell_type": "code",
   "execution_count": 15,
   "id": "extreme-affiliate",
   "metadata": {},
   "outputs": [
    {
     "name": "stdout",
     "output_type": "stream",
     "text": [
      "<class 'pandas.core.frame.DataFrame'>\n",
      "RangeIndex: 223 entries, 0 to 222\n",
      "Data columns (total 2 columns):\n",
      " #   Column      Non-Null Count  Dtype \n",
      "---  ------      --------------  ----- \n",
      " 0   location    223 non-null    object\n",
      " 1   vaccine_no  223 non-null    int64 \n",
      "dtypes: int64(1), object(1)\n",
      "memory usage: 3.6+ KB\n"
     ]
    }
   ],
   "source": [
    "owid_df['vaccine_no'] = [len(owid_df['vaccines'].str.split(',')[i]) \n",
    "                         for i in range (len(owid_df['vaccines']))]\n",
    "\n",
    "owid_df[['location','vaccine_no']].info()"
   ]
  },
  {
   "cell_type": "code",
   "execution_count": 16,
   "id": "extra-ground",
   "metadata": {},
   "outputs": [
    {
     "data": {
      "text/html": [
       "<div>\n",
       "<style scoped>\n",
       "    .dataframe tbody tr th:only-of-type {\n",
       "        vertical-align: middle;\n",
       "    }\n",
       "\n",
       "    .dataframe tbody tr th {\n",
       "        vertical-align: top;\n",
       "    }\n",
       "\n",
       "    .dataframe thead th {\n",
       "        text-align: right;\n",
       "    }\n",
       "</style>\n",
       "<table border=\"1\" class=\"dataframe\">\n",
       "  <thead>\n",
       "    <tr style=\"text-align: right;\">\n",
       "      <th></th>\n",
       "      <th>location</th>\n",
       "      <th>vaccine_no</th>\n",
       "    </tr>\n",
       "  </thead>\n",
       "  <tbody>\n",
       "    <tr>\n",
       "      <th>218</th>\n",
       "      <td>Wales</td>\n",
       "      <td>3</td>\n",
       "    </tr>\n",
       "    <tr>\n",
       "      <th>219</th>\n",
       "      <td>Wallis and Futuna</td>\n",
       "      <td>1</td>\n",
       "    </tr>\n",
       "    <tr>\n",
       "      <th>220</th>\n",
       "      <td>Yemen</td>\n",
       "      <td>3</td>\n",
       "    </tr>\n",
       "    <tr>\n",
       "      <th>221</th>\n",
       "      <td>Zambia</td>\n",
       "      <td>3</td>\n",
       "    </tr>\n",
       "    <tr>\n",
       "      <th>222</th>\n",
       "      <td>Zimbabwe</td>\n",
       "      <td>4</td>\n",
       "    </tr>\n",
       "  </tbody>\n",
       "</table>\n",
       "</div>"
      ],
      "text/plain": [
       "              location  vaccine_no\n",
       "218              Wales           3\n",
       "219  Wallis and Futuna           1\n",
       "220              Yemen           3\n",
       "221             Zambia           3\n",
       "222           Zimbabwe           4"
      ]
     },
     "execution_count": 16,
     "metadata": {},
     "output_type": "execute_result"
    }
   ],
   "source": [
    "owid_df[['location','vaccine_no']].tail(5)"
   ]
  }
 ],
 "metadata": {
  "kernelspec": {
   "display_name": "Python 3",
   "language": "python",
   "name": "python3"
  },
  "language_info": {
   "codemirror_mode": {
    "name": "ipython",
    "version": 3
   },
   "file_extension": ".py",
   "mimetype": "text/x-python",
   "name": "python",
   "nbconvert_exporter": "python",
   "pygments_lexer": "ipython3",
   "version": "3.7.4"
  }
 },
 "nbformat": 4,
 "nbformat_minor": 5
}
