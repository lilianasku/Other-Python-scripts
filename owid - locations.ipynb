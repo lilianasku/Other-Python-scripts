{
 "cells": [
  {
   "cell_type": "markdown",
   "id": "major-legislature",
   "metadata": {},
   "source": [
    "### Exploratory Data Analysis of an OWID - vaccines file "
   ]
  },
  {
   "cell_type": "markdown",
   "id": "enormous-cable",
   "metadata": {},
   "source": [
    "### 1. Importing  data "
   ]
  },
  {
   "cell_type": "code",
   "execution_count": 1,
   "id": "sacred-cologne",
   "metadata": {},
   "outputs": [
    {
     "data": {
      "text/html": [
       "<div>\n",
       "<style scoped>\n",
       "    .dataframe tbody tr th:only-of-type {\n",
       "        vertical-align: middle;\n",
       "    }\n",
       "\n",
       "    .dataframe tbody tr th {\n",
       "        vertical-align: top;\n",
       "    }\n",
       "\n",
       "    .dataframe thead th {\n",
       "        text-align: right;\n",
       "    }\n",
       "</style>\n",
       "<table border=\"1\" class=\"dataframe\">\n",
       "  <thead>\n",
       "    <tr style=\"text-align: right;\">\n",
       "      <th></th>\n",
       "      <th>location</th>\n",
       "      <th>iso_code</th>\n",
       "      <th>vaccines</th>\n",
       "      <th>last_observation_date</th>\n",
       "      <th>source_name</th>\n",
       "      <th>source_website</th>\n",
       "    </tr>\n",
       "  </thead>\n",
       "  <tbody>\n",
       "    <tr>\n",
       "      <th>0</th>\n",
       "      <td>Afghanistan</td>\n",
       "      <td>AFG</td>\n",
       "      <td>Johnson&amp;Johnson, Oxford/AstraZeneca, Pfizer/Bi...</td>\n",
       "      <td>2021-09-16</td>\n",
       "      <td>World Health Organization</td>\n",
       "      <td>https://app.powerbi.com/view?r=eyJrIjoiYTkyM2V...</td>\n",
       "    </tr>\n",
       "    <tr>\n",
       "      <th>1</th>\n",
       "      <td>Albania</td>\n",
       "      <td>ALB</td>\n",
       "      <td>Oxford/AstraZeneca, Pfizer/BioNTech, Sinovac, ...</td>\n",
       "      <td>2021-09-28</td>\n",
       "      <td>Ministry of Health</td>\n",
       "      <td>https://shendetesia.gov.al/vaksinimi-anticovid...</td>\n",
       "    </tr>\n",
       "    <tr>\n",
       "      <th>2</th>\n",
       "      <td>Algeria</td>\n",
       "      <td>DZA</td>\n",
       "      <td>Oxford/AstraZeneca, Sinopharm/Beijing, Sputnik V</td>\n",
       "      <td>2021-09-25</td>\n",
       "      <td>World Health Organization</td>\n",
       "      <td>https://covid19.who.int/</td>\n",
       "    </tr>\n",
       "    <tr>\n",
       "      <th>3</th>\n",
       "      <td>Andorra</td>\n",
       "      <td>AND</td>\n",
       "      <td>Oxford/AstraZeneca, Pfizer/BioNTech</td>\n",
       "      <td>2021-08-29</td>\n",
       "      <td>Government of Andorra</td>\n",
       "      <td>https://who.maps.arcgis.com/apps/dashboards/ea...</td>\n",
       "    </tr>\n",
       "    <tr>\n",
       "      <th>4</th>\n",
       "      <td>Angola</td>\n",
       "      <td>AGO</td>\n",
       "      <td>Oxford/AstraZeneca</td>\n",
       "      <td>2021-09-26</td>\n",
       "      <td>World Health Organization</td>\n",
       "      <td>https://covid19.who.int/</td>\n",
       "    </tr>\n",
       "  </tbody>\n",
       "</table>\n",
       "</div>"
      ],
      "text/plain": [
       "      location iso_code                                           vaccines  \\\n",
       "0  Afghanistan      AFG  Johnson&Johnson, Oxford/AstraZeneca, Pfizer/Bi...   \n",
       "1      Albania      ALB  Oxford/AstraZeneca, Pfizer/BioNTech, Sinovac, ...   \n",
       "2      Algeria      DZA   Oxford/AstraZeneca, Sinopharm/Beijing, Sputnik V   \n",
       "3      Andorra      AND                Oxford/AstraZeneca, Pfizer/BioNTech   \n",
       "4       Angola      AGO                                 Oxford/AstraZeneca   \n",
       "\n",
       "  last_observation_date                source_name  \\\n",
       "0            2021-09-16  World Health Organization   \n",
       "1            2021-09-28         Ministry of Health   \n",
       "2            2021-09-25  World Health Organization   \n",
       "3            2021-08-29      Government of Andorra   \n",
       "4            2021-09-26  World Health Organization   \n",
       "\n",
       "                                      source_website  \n",
       "0  https://app.powerbi.com/view?r=eyJrIjoiYTkyM2V...  \n",
       "1  https://shendetesia.gov.al/vaksinimi-anticovid...  \n",
       "2                           https://covid19.who.int/  \n",
       "3  https://who.maps.arcgis.com/apps/dashboards/ea...  \n",
       "4                           https://covid19.who.int/  "
      ]
     },
     "execution_count": 1,
     "metadata": {},
     "output_type": "execute_result"
    }
   ],
   "source": [
    "import numpy as np\n",
    "import pandas as pd\n",
    "import matplotlib.pyplot as plt\n",
    "plt.style.use('ggplot')\n",
    "\n",
    "file = 'locations.csv'\n",
    "\n",
    "owid_df = pd.read_csv(file, sep =',')\n",
    "owid_df.head(5)"
   ]
  },
  {
   "cell_type": "code",
   "execution_count": 2,
   "id": "palestinian-contemporary",
   "metadata": {},
   "outputs": [
    {
     "name": "stdout",
     "output_type": "stream",
     "text": [
      "<class 'pandas.core.frame.DataFrame'>\n",
      "RangeIndex: 222 entries, 0 to 221\n",
      "Data columns (total 6 columns):\n",
      " #   Column                 Non-Null Count  Dtype \n",
      "---  ------                 --------------  ----- \n",
      " 0   location               222 non-null    object\n",
      " 1   iso_code               222 non-null    object\n",
      " 2   vaccines               222 non-null    object\n",
      " 3   last_observation_date  222 non-null    object\n",
      " 4   source_name            222 non-null    object\n",
      " 5   source_website         222 non-null    object\n",
      "dtypes: object(6)\n",
      "memory usage: 10.5+ KB\n"
     ]
    }
   ],
   "source": [
    "owid_df.info(verbose = True)"
   ]
  },
  {
   "cell_type": "markdown",
   "id": "suited-singles",
   "metadata": {},
   "source": [
    "### 2. Preparing data"
   ]
  },
  {
   "cell_type": "code",
   "execution_count": 3,
   "id": "accepting-initial",
   "metadata": {},
   "outputs": [],
   "source": [
    "# splitting vaccine column\n",
    "owid_df1= owid_df['vaccines'].str.split(',', expand=True)\n",
    "owid_df1.columns = [\"VaccineNo1\", \"VaccineNo2\", \"VaccineNo3\", \"VaccineNo4\",  \"VaccineNo5\",\n",
    "                    \"VaccineNo6\", \"VaccineNo7\", \"VaccineNo8\"]"
   ]
  },
  {
   "cell_type": "code",
   "execution_count": 4,
   "id": "amateur-coating",
   "metadata": {},
   "outputs": [
    {
     "data": {
      "text/html": [
       "<div>\n",
       "<style scoped>\n",
       "    .dataframe tbody tr th:only-of-type {\n",
       "        vertical-align: middle;\n",
       "    }\n",
       "\n",
       "    .dataframe tbody tr th {\n",
       "        vertical-align: top;\n",
       "    }\n",
       "\n",
       "    .dataframe thead th {\n",
       "        text-align: right;\n",
       "    }\n",
       "</style>\n",
       "<table border=\"1\" class=\"dataframe\">\n",
       "  <thead>\n",
       "    <tr style=\"text-align: right;\">\n",
       "      <th></th>\n",
       "      <th>location</th>\n",
       "      <th>iso_code</th>\n",
       "      <th>last_observation_date</th>\n",
       "      <th>source_name</th>\n",
       "      <th>source_website</th>\n",
       "      <th>VaccineNo1</th>\n",
       "      <th>VaccineNo2</th>\n",
       "      <th>VaccineNo3</th>\n",
       "      <th>VaccineNo4</th>\n",
       "      <th>VaccineNo5</th>\n",
       "      <th>VaccineNo6</th>\n",
       "      <th>VaccineNo7</th>\n",
       "      <th>VaccineNo8</th>\n",
       "    </tr>\n",
       "  </thead>\n",
       "  <tbody>\n",
       "    <tr>\n",
       "      <th>0</th>\n",
       "      <td>Afghanistan</td>\n",
       "      <td>AFG</td>\n",
       "      <td>2021-09-16</td>\n",
       "      <td>World Health Organization</td>\n",
       "      <td>https://app.powerbi.com/view?r=eyJrIjoiYTkyM2V...</td>\n",
       "      <td>Johnson&amp;Johnson</td>\n",
       "      <td>Oxford/AstraZeneca</td>\n",
       "      <td>Pfizer/BioNTech</td>\n",
       "      <td>Sinopharm/Beijing</td>\n",
       "      <td>None</td>\n",
       "      <td>None</td>\n",
       "      <td>None</td>\n",
       "      <td>None</td>\n",
       "    </tr>\n",
       "    <tr>\n",
       "      <th>1</th>\n",
       "      <td>Albania</td>\n",
       "      <td>ALB</td>\n",
       "      <td>2021-09-28</td>\n",
       "      <td>Ministry of Health</td>\n",
       "      <td>https://shendetesia.gov.al/vaksinimi-anticovid...</td>\n",
       "      <td>Oxford/AstraZeneca</td>\n",
       "      <td>Pfizer/BioNTech</td>\n",
       "      <td>Sinovac</td>\n",
       "      <td>Sputnik V</td>\n",
       "      <td>None</td>\n",
       "      <td>None</td>\n",
       "      <td>None</td>\n",
       "      <td>None</td>\n",
       "    </tr>\n",
       "    <tr>\n",
       "      <th>2</th>\n",
       "      <td>Algeria</td>\n",
       "      <td>DZA</td>\n",
       "      <td>2021-09-25</td>\n",
       "      <td>World Health Organization</td>\n",
       "      <td>https://covid19.who.int/</td>\n",
       "      <td>Oxford/AstraZeneca</td>\n",
       "      <td>Sinopharm/Beijing</td>\n",
       "      <td>Sputnik V</td>\n",
       "      <td>None</td>\n",
       "      <td>None</td>\n",
       "      <td>None</td>\n",
       "      <td>None</td>\n",
       "      <td>None</td>\n",
       "    </tr>\n",
       "    <tr>\n",
       "      <th>3</th>\n",
       "      <td>Andorra</td>\n",
       "      <td>AND</td>\n",
       "      <td>2021-08-29</td>\n",
       "      <td>Government of Andorra</td>\n",
       "      <td>https://who.maps.arcgis.com/apps/dashboards/ea...</td>\n",
       "      <td>Oxford/AstraZeneca</td>\n",
       "      <td>Pfizer/BioNTech</td>\n",
       "      <td>None</td>\n",
       "      <td>None</td>\n",
       "      <td>None</td>\n",
       "      <td>None</td>\n",
       "      <td>None</td>\n",
       "      <td>None</td>\n",
       "    </tr>\n",
       "    <tr>\n",
       "      <th>4</th>\n",
       "      <td>Angola</td>\n",
       "      <td>AGO</td>\n",
       "      <td>2021-09-26</td>\n",
       "      <td>World Health Organization</td>\n",
       "      <td>https://covid19.who.int/</td>\n",
       "      <td>Oxford/AstraZeneca</td>\n",
       "      <td>None</td>\n",
       "      <td>None</td>\n",
       "      <td>None</td>\n",
       "      <td>None</td>\n",
       "      <td>None</td>\n",
       "      <td>None</td>\n",
       "      <td>None</td>\n",
       "    </tr>\n",
       "  </tbody>\n",
       "</table>\n",
       "</div>"
      ],
      "text/plain": [
       "      location iso_code last_observation_date                source_name  \\\n",
       "0  Afghanistan      AFG            2021-09-16  World Health Organization   \n",
       "1      Albania      ALB            2021-09-28         Ministry of Health   \n",
       "2      Algeria      DZA            2021-09-25  World Health Organization   \n",
       "3      Andorra      AND            2021-08-29      Government of Andorra   \n",
       "4       Angola      AGO            2021-09-26  World Health Organization   \n",
       "\n",
       "                                      source_website          VaccineNo1  \\\n",
       "0  https://app.powerbi.com/view?r=eyJrIjoiYTkyM2V...     Johnson&Johnson   \n",
       "1  https://shendetesia.gov.al/vaksinimi-anticovid...  Oxford/AstraZeneca   \n",
       "2                           https://covid19.who.int/  Oxford/AstraZeneca   \n",
       "3  https://who.maps.arcgis.com/apps/dashboards/ea...  Oxford/AstraZeneca   \n",
       "4                           https://covid19.who.int/  Oxford/AstraZeneca   \n",
       "\n",
       "            VaccineNo2        VaccineNo3          VaccineNo4 VaccineNo5  \\\n",
       "0   Oxford/AstraZeneca   Pfizer/BioNTech   Sinopharm/Beijing       None   \n",
       "1      Pfizer/BioNTech           Sinovac           Sputnik V       None   \n",
       "2    Sinopharm/Beijing         Sputnik V                None       None   \n",
       "3      Pfizer/BioNTech              None                None       None   \n",
       "4                 None              None                None       None   \n",
       "\n",
       "  VaccineNo6 VaccineNo7 VaccineNo8  \n",
       "0       None       None       None  \n",
       "1       None       None       None  \n",
       "2       None       None       None  \n",
       "3       None       None       None  \n",
       "4       None       None       None  "
      ]
     },
     "execution_count": 4,
     "metadata": {},
     "output_type": "execute_result"
    }
   ],
   "source": [
    "vaccine_df = pd.concat([owid_df, owid_df1], axis=1)\n",
    "vaccine_df.drop(columns = ['vaccines']).head(5)"
   ]
  },
  {
   "cell_type": "markdown",
   "id": "quiet-jerusalem",
   "metadata": {},
   "source": [
    "### 3. Counting number of countries per vaccine type"
   ]
  },
  {
   "cell_type": "code",
   "execution_count": 5,
   "id": "digital-discount",
   "metadata": {},
   "outputs": [
    {
     "data": {
      "text/plain": [
       "VaccineNo1\n",
       "Abdala                 1\n",
       "COVIran Barekat        1\n",
       "CanSino                7\n",
       "Covaxin                5\n",
       "EpiVacCorona           2\n",
       "Johnson&Johnson       53\n",
       "Medigen                1\n",
       "Moderna               39\n",
       "Oxford/AstraZeneca    92\n",
       "Pfizer/BioNTech       13\n",
       "QazVac                 1\n",
       "Sinopharm/Beijing      6\n",
       "Sputnik V              1\n",
       "Name: location, dtype: int64"
      ]
     },
     "execution_count": 5,
     "metadata": {},
     "output_type": "execute_result"
    }
   ],
   "source": [
    "#Number of countries by the first choice vaccines\n",
    "vaccine_df.groupby([\"VaccineNo1\"])[\"location\"].count()"
   ]
  },
  {
   "cell_type": "code",
   "execution_count": 6,
   "id": "silent-details",
   "metadata": {},
   "outputs": [
    {
     "data": {
      "text/plain": [
       "VaccineNo2\n",
       " Covaxin                2\n",
       " Johnson&Johnson        1\n",
       " Moderna               34\n",
       " Oxford/AstraZeneca    55\n",
       " Pfizer/BioNTech       49\n",
       " Sinopharm/Beijing     19\n",
       " Sinopharm/Wuhan        1\n",
       " Sinovac                4\n",
       " Soberana02             1\n",
       " Sputnik V             10\n",
       "Name: location, dtype: int64"
      ]
     },
     "execution_count": 6,
     "metadata": {},
     "output_type": "execute_result"
    }
   ],
   "source": [
    "#number of countries with the second choice vaccines\n",
    "vaccine_df.groupby([\"VaccineNo2\"])[\"location\"].count()"
   ]
  }
 ],
 "metadata": {
  "kernelspec": {
   "display_name": "Python 3",
   "language": "python",
   "name": "python3"
  },
  "language_info": {
   "codemirror_mode": {
    "name": "ipython",
    "version": 3
   },
   "file_extension": ".py",
   "mimetype": "text/x-python",
   "name": "python",
   "nbconvert_exporter": "python",
   "pygments_lexer": "ipython3",
   "version": "3.7.4"
  }
 },
 "nbformat": 4,
 "nbformat_minor": 5
}
